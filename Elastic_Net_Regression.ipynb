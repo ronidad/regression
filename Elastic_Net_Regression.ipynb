{
  "cells": [
    {
      "cell_type": "markdown",
      "metadata": {
        "id": "BpmQjuappoy8"
      },
      "source": [
        "<font color=\"green\">*To start working on this notebook, or any other notebook that we will use in the Moringa Data Science Course, we will need to save our own copy of it. We can do this by clicking File > Save a Copy in Drive. We will then be able to make edits to our own copy of this notebook.*</font>"
      ]
    },
    {
      "cell_type": "markdown",
      "metadata": {
        "id": "HNe8t7dVpbpu"
      },
      "source": [
        "# Python Programming: Elastic Net Regression "
      ]
    },
    {
      "cell_type": "markdown",
      "metadata": {
        "id": "scuAwXisqKmw"
      },
      "source": [
        "## Example"
      ]
    },
    {
      "cell_type": "code",
      "execution_count": 1,
      "metadata": {
        "colab": {
          "base_uri": "https://localhost:8080/",
          "height": 289
        },
        "id": "Ny4eVDS-pRjg",
        "outputId": "304e74a4-c442-4504-b644-f52ca07b6c70"
      },
      "outputs": [],
      "source": [
        "# Example 1\n",
        "# ---\n",
        "# Use the fair dataset from the pydataset library to predict marriage satisfaction based on the given variables.\n",
        "# ---\n",
        "# \n",
        "#!pip install pydataset"
      ]
    },
    {
      "cell_type": "code",
      "execution_count": 2,
      "metadata": {
        "colab": {
          "base_uri": "https://localhost:8080/",
          "height": 363
        },
        "id": "_5Ce8nt6rLpz",
        "outputId": "635aef3b-7f59-4307-96d8-67bb428f71b9"
      },
      "outputs": [],
      "source": [
        "# Importing our libraries\n",
        "# \n",
        "from pydataset import data\n",
        "import numpy as np\n",
        "import pandas as pd\n",
        "pd.set_option('display.max_rows', 5000)\n",
        "pd.set_option('display.max_columns', 5000)\n",
        "pd.set_option('display.width', 10000)\n",
        "\n",
        "from sklearn.model_selection import GridSearchCV\n",
        "from sklearn.linear_model import ElasticNet\n",
        "from sklearn.linear_model import LinearRegression\n",
        "from sklearn.metrics import mean_squared_error"
      ]
    },
    {
      "cell_type": "code",
      "execution_count": 6,
      "metadata": {
        "id": "DSdAir83rPwt"
      },
      "outputs": [
        {
          "data": {
            "text/html": [
              "<div>\n",
              "<style scoped>\n",
              "    .dataframe tbody tr th:only-of-type {\n",
              "        vertical-align: middle;\n",
              "    }\n",
              "\n",
              "    .dataframe tbody tr th {\n",
              "        vertical-align: top;\n",
              "    }\n",
              "\n",
              "    .dataframe thead th {\n",
              "        text-align: right;\n",
              "    }\n",
              "</style>\n",
              "<table border=\"1\" class=\"dataframe\">\n",
              "  <thead>\n",
              "    <tr style=\"text-align: right;\">\n",
              "      <th></th>\n",
              "      <th>sex</th>\n",
              "      <th>age</th>\n",
              "      <th>ym</th>\n",
              "      <th>child</th>\n",
              "      <th>religious</th>\n",
              "      <th>education</th>\n",
              "      <th>occupation</th>\n",
              "      <th>rate</th>\n",
              "      <th>nbaffairs</th>\n",
              "    </tr>\n",
              "  </thead>\n",
              "  <tbody>\n",
              "    <tr>\n",
              "      <th>1</th>\n",
              "      <td>0</td>\n",
              "      <td>37.0</td>\n",
              "      <td>10.00</td>\n",
              "      <td>0</td>\n",
              "      <td>3</td>\n",
              "      <td>18</td>\n",
              "      <td>7</td>\n",
              "      <td>4</td>\n",
              "      <td>0</td>\n",
              "    </tr>\n",
              "    <tr>\n",
              "      <th>2</th>\n",
              "      <td>1</td>\n",
              "      <td>27.0</td>\n",
              "      <td>4.00</td>\n",
              "      <td>0</td>\n",
              "      <td>4</td>\n",
              "      <td>14</td>\n",
              "      <td>6</td>\n",
              "      <td>4</td>\n",
              "      <td>0</td>\n",
              "    </tr>\n",
              "    <tr>\n",
              "      <th>3</th>\n",
              "      <td>1</td>\n",
              "      <td>32.0</td>\n",
              "      <td>15.00</td>\n",
              "      <td>1</td>\n",
              "      <td>1</td>\n",
              "      <td>12</td>\n",
              "      <td>1</td>\n",
              "      <td>4</td>\n",
              "      <td>0</td>\n",
              "    </tr>\n",
              "    <tr>\n",
              "      <th>4</th>\n",
              "      <td>0</td>\n",
              "      <td>57.0</td>\n",
              "      <td>15.00</td>\n",
              "      <td>1</td>\n",
              "      <td>5</td>\n",
              "      <td>18</td>\n",
              "      <td>6</td>\n",
              "      <td>5</td>\n",
              "      <td>0</td>\n",
              "    </tr>\n",
              "    <tr>\n",
              "      <th>5</th>\n",
              "      <td>0</td>\n",
              "      <td>22.0</td>\n",
              "      <td>0.75</td>\n",
              "      <td>0</td>\n",
              "      <td>2</td>\n",
              "      <td>17</td>\n",
              "      <td>6</td>\n",
              "      <td>3</td>\n",
              "      <td>0</td>\n",
              "    </tr>\n",
              "  </tbody>\n",
              "</table>\n",
              "</div>"
            ],
            "text/plain": [
              "   sex   age     ym  child  religious  education  occupation  rate  nbaffairs\n",
              "1    0  37.0  10.00      0          3         18           7     4          0\n",
              "2    1  27.0   4.00      0          4         14           6     4          0\n",
              "3    1  32.0  15.00      1          1         12           1     4          0\n",
              "4    0  57.0  15.00      1          5         18           6     5          0\n",
              "5    0  22.0   0.75      0          2         17           6     3          0"
            ]
          },
          "execution_count": 6,
          "metadata": {},
          "output_type": "execute_result"
        }
      ],
      "source": [
        "# Data preparation\n",
        "# \n",
        "df=pd.DataFrame(data('Fair'))\n",
        "df.loc[df.sex== 'male', 'sex'] = 0\n",
        "df.loc[df.sex== 'female','sex'] = 1\n",
        "df['sex'] = df['sex'].astype(int)\n",
        "df.loc[df.child== 'no', 'child'] = 0\n",
        "df.loc[df.child== 'yes','child'] = 1\n",
        "df['child'] = df['child'].astype(int)\n",
        "X=df[['religious','age','sex','ym','education','occupation','nbaffairs']]\n",
        "y=df['rate']\n",
        "df.head()"
      ]
    },
    {
      "cell_type": "code",
      "execution_count": 7,
      "metadata": {
        "id": "YRhDWYgprhNy"
      },
      "outputs": [
        {
          "name": "stdout",
          "output_type": "stream",
          "text": [
            "1.049873864469667\n"
          ]
        }
      ],
      "source": [
        "# Creating our linear regression model for the purpose of comparison\n",
        "# \n",
        "regression=LinearRegression()\n",
        "regression.fit(X,y)\n",
        "first_model=(mean_squared_error(y_true=y,y_pred=regression.predict(X)))\n",
        "print(first_model) \n",
        "\n",
        "# This mean standard error score of 1.05 is our benchmark for determining \n",
        "# if the elastic net model will be better or worst. "
      ]
    },
    {
      "cell_type": "code",
      "execution_count": 8,
      "metadata": {
        "id": "Itfl2nFNrnXD"
      },
      "outputs": [
        {
          "data": {
            "text/plain": [
              "{'religious': 0.04235281110639182,\n",
              " 'age': -0.009059645428673834,\n",
              " 'sex': 0.08882013337087101,\n",
              " 'ym': -0.03045880256547652,\n",
              " 'education': 0.06810255742293703,\n",
              " 'occupation': -0.005979506852998067,\n",
              " 'nbaffairs': -0.07882571247653965}"
            ]
          },
          "execution_count": 8,
          "metadata": {},
          "output_type": "execute_result"
        }
      ],
      "source": [
        "# Below are the coefficients of this first model. We use a for loop to go through \n",
        "# the model and the zip function to combine the two columns.\n",
        "# \n",
        "coef_dict_baseline = {}\n",
        "for coef, feat in zip(regression.coef_,X.columns):\n",
        "    coef_dict_baseline[feat] = coef\n",
        "coef_dict_baseline"
      ]
    },
    {
      "cell_type": "code",
      "execution_count": 9,
      "metadata": {
        "id": "slBa3TuPsQ5A"
      },
      "outputs": [],
      "source": [
        "# Elastic Net Model\n",
        "# Elastic net, just like ridge and lasso regression, requires normalize data. \n",
        "# This argument  is set inside the ElasticNet function. \n",
        "# The second thing we need to do is create our grid.\n",
        "# \n",
        "elastic=ElasticNet(normalize=True)\n",
        "search=GridSearchCV(estimator=elastic,param_grid={'alpha':np.logspace(-5,2,8),'l1_ratio':[.2,.4,.6,.8]},scoring='neg_mean_squared_error',n_jobs=1,refit=True,cv=10)"
      ]
    },
    {
      "cell_type": "code",
      "execution_count": 10,
      "metadata": {
        "id": "wKMvWkn7sxao"
      },
      "outputs": [
        {
          "data": {
            "text/plain": [
              "1.0819158709244472"
            ]
          },
          "execution_count": 10,
          "metadata": {},
          "output_type": "execute_result"
        }
      ],
      "source": [
        "# We will now fit our model and display the best parameters and the best results we can get with that setup.\n",
        "# \n",
        "search.fit(X,y)\n",
        "search.best_params_\n",
        "abs(search.best_score_)"
      ]
    },
    {
      "cell_type": "code",
      "execution_count": 11,
      "metadata": {
        "id": "fT4WbUDSs9xu"
      },
      "outputs": [
        {
          "name": "stdout",
          "output_type": "stream",
          "text": [
            "1.0566430678343806\n"
          ]
        }
      ],
      "source": [
        "# The best hyperparameters was an alpha set to 0.001 and a l1_ratio of 0.8. \n",
        "# With these settings we got an MSE of 1.08. This is above our baseline model of MSE 1.05  for the baseline model. \n",
        "# Which means that elastic net is doing worse than linear regression. \n",
        "# For clarity, we will set our hyperparameters to the recommended values and run on the data.\n",
        "# \n",
        "elastic=ElasticNet(normalize=True,alpha=0.001,l1_ratio=0.75)\n",
        "elastic.fit(X,y)\n",
        "second_model=(mean_squared_error(y_true=y,y_pred=elastic.predict(X)))\n",
        "print(second_model)"
      ]
    },
    {
      "cell_type": "code",
      "execution_count": 12,
      "metadata": {
        "id": "gpzR2KETtPDY"
      },
      "outputs": [
        {
          "data": {
            "text/plain": [
              "{'religious': 0.019475417249578575,\n",
              " 'age': -0.008630896492807688,\n",
              " 'sex': 0.01811646456809085,\n",
              " 'ym': -0.02422483127451298,\n",
              " 'education': 0.04429085595448633,\n",
              " 'occupation': -0.0,\n",
              " 'nbaffairs': -0.06679513627963515}"
            ]
          },
          "execution_count": 12,
          "metadata": {},
          "output_type": "execute_result"
        }
      ],
      "source": [
        "# Below are the coefficients\n",
        "# \n",
        "coef_dict_baseline = {}\n",
        "for coef, feat in zip(elastic.coef_,X.columns):\n",
        "    coef_dict_baseline[feat] = coef\n",
        "coef_dict_baseline\n",
        "\n",
        "# The coefficients are mostly the same. \n",
        "# Notice that occupation was completely removed from the model in the elastic net version. \n",
        "# This means that this values was no good to the algorithm. Traditional regression cannot do this."
      ]
    },
    {
      "cell_type": "markdown",
      "metadata": {
        "id": "oSFgsKKXqIiB"
      },
      "source": [
        "## Challenges"
      ]
    },
    {
      "cell_type": "markdown",
      "metadata": {
        "id": "eg6xL93DqlFp"
      },
      "source": [
        "### <font color=\"green\">Challenge 1</font>"
      ]
    },
    {
      "cell_type": "code",
      "execution_count": null,
      "metadata": {
        "id": "tggiLGHzqcaJ"
      },
      "outputs": [],
      "source": [
        "# Challenge 1\n",
        "# ---\n",
        "# Question: Using the given housiet, create a regression model to predict \n",
        "# the value of prices of a house using the given features. \n",
        "# ---\n",
        "# Dataset url = http://bit.ly/BostonHousingDataset\n",
        "# ---\n",
        "# \n",
        "OUR CODE GOES HERE"
      ]
    },
    {
      "cell_type": "markdown",
      "metadata": {
        "id": "OfwuxrUVqpTN"
      },
      "source": [
        "### <font color=\"green\">Challenge 2</font>"
      ]
    },
    {
      "cell_type": "code",
      "execution_count": null,
      "metadata": {
        "id": "4C_RP2J-qe8P"
      },
      "outputs": [],
      "source": [
        "# Challenge 2\n",
        "# ---\n",
        "# Question: Using the Ames Housing dataset, create a regression model to predict the sales price of home \n",
        "# applying elastic net regression.\n",
        "# ---\n",
        "# Dataset Source = http://bit.ly/HousePricesDataset\n",
        "# \n",
        "OUR CODE GOES HERE"
      ]
    },
    {
      "cell_type": "markdown",
      "metadata": {
        "id": "FIDC997cqqjr"
      },
      "source": [
        "### <font color=\"green\">Challenge 3</font>"
      ]
    },
    {
      "cell_type": "code",
      "execution_count": null,
      "metadata": {
        "id": "GAhV5q8sqgPO"
      },
      "outputs": [],
      "source": [
        "# Challenge 3\n",
        "# ---\n",
        "# Question: Given the medical cost personal dataset, accurately predict insurance cost using a regression model.\n",
        "# ---\n",
        "# Dataset Source = http://bit.ly/https://bit.ly/insurance-_dataset\n",
        "# \n",
        "OUR CODE GOES HERE"
      ]
    },
    {
      "cell_type": "markdown",
      "metadata": {
        "id": "UWfQDCKZOrYe"
      },
      "source": [
        "### <font color=\"green\">Challenge 4</font>"
      ]
    },
    {
      "cell_type": "code",
      "execution_count": null,
      "metadata": {
        "id": "X-2u85NiOwlX"
      },
      "outputs": [],
      "source": [
        "# Challenge 4\n",
        "# ---\n",
        "# Question: Use ElasticNet regression to build a model that is able to accurately predict the profits of a startup.\n",
        "# ---\n",
        "# Dataset Source = http://bit.ly/StartupsDataset\n",
        "# ---\n",
        "# \n",
        "OUR CODE STARTS HERE"
      ]
    },
    {
      "cell_type": "markdown",
      "metadata": {
        "id": "b6lsTHPfPQHR"
      },
      "source": [
        "### <font color=\"green\">Challenge 5</font>"
      ]
    },
    {
      "cell_type": "code",
      "execution_count": null,
      "metadata": {
        "id": "go19Edy7PXx7"
      },
      "outputs": [],
      "source": [
        "# Challenge 5\n",
        "# ---\n",
        "# Question: Build a prediction model to predict duration for any combination of country,operator, \n",
        "# services and category given the genre,language and number of units. \n",
        "# Apply ElasticNet regression while building your model. \n",
        "# ---\n",
        "# Dataset Source = https://bit.ly/Audio_content_consumption\n",
        "# ---\n",
        "# \n",
        "OUR CODE STARTS HERE"
      ]
    }
  ],
  "metadata": {
    "colab": {
      "collapsed_sections": [
        "scuAwXisqKmw",
        "oSFgsKKXqIiB",
        "eg6xL93DqlFp",
        "OfwuxrUVqpTN",
        "FIDC997cqqjr",
        "UWfQDCKZOrYe",
        "b6lsTHPfPQHR"
      ],
      "name": "Python Programming: Elastic Net Regression ",
      "provenance": [],
      "toc_visible": true
    },
    "interpreter": {
      "hash": "8e24f623c9d976e65e43b538ecbbc4d478524c94015e92b14b460358aba5245a"
    },
    "kernelspec": {
      "display_name": "Python 3.8.5 64-bit ('base': conda)",
      "name": "python3"
    },
    "language_info": {
      "codemirror_mode": {
        "name": "ipython",
        "version": 3
      },
      "file_extension": ".py",
      "mimetype": "text/x-python",
      "name": "python",
      "nbconvert_exporter": "python",
      "pygments_lexer": "ipython3",
      "version": "3.8.5"
    }
  },
  "nbformat": 4,
  "nbformat_minor": 0
}
