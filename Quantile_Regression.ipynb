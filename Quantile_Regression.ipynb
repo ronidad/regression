{
  "cells": [
    {
      "cell_type": "markdown",
      "metadata": {
        "id": "WHZ_wPykNS8b"
      },
      "source": [
        "# Python Programming: Quantile Regression"
      ]
    },
    {
      "cell_type": "markdown",
      "metadata": {
        "id": "-ErMe12dSTP6"
      },
      "source": [
        "As we have seen, linear regression models make a key assumption about the random error term in the linear model. The assumption is that the error term has a constant variance across the values of independent variable X. However, when the assumption is no longer true, we use quantile regression. The following example will help us understand how we can use quantile regression while working on such a problem."
      ]
    },
    {
      "cell_type": "markdown",
      "metadata": {
        "id": "BcDf24f1UrL-"
      },
      "source": [
        "## Example: Quantile Regression"
      ]
    },
    {
      "cell_type": "code",
      "execution_count": 1,
      "metadata": {
        "id": "-b0k35AwUsqt"
      },
      "outputs": [],
      "source": [
        "# Importing the required libraries\n",
        "# \n",
        "import numpy as np \n",
        "import matplotlib.pyplot as plt "
      ]
    },
    {
      "cell_type": "code",
      "execution_count": 8,
      "metadata": {
        "colab": {
          "base_uri": "https://localhost:8080/",
          "height": 312
        },
        "id": "d2rPspq1VToj",
        "outputId": "b3dda0c7-8269-412f-bfb9-423f72acaac6"
      },
      "outputs": [
        {
          "name": "stdout",
          "output_type": "stream",
          "text": [
            "[[-5.29795189e-01]\n",
            " [-1.11281100e+00]\n",
            " [-3.58676872e-01]\n",
            " [-1.44756940e+00]\n",
            " [-1.11884671e-01]\n",
            " [-7.49760411e-01]\n",
            " [ 1.07327901e+00]\n",
            " [-4.59349861e-01]\n",
            " [ 4.82030464e-01]\n",
            " [-7.32674468e-02]\n",
            " [-9.97035107e-02]\n",
            " [-6.77281169e-01]\n",
            " [-4.50960731e-01]\n",
            " [ 2.70484993e-01]\n",
            " [-1.88514031e+00]\n",
            " [ 4.35958968e-01]\n",
            " [ 8.23268637e-01]\n",
            " [ 1.04315842e+00]\n",
            " [-2.84353010e-01]\n",
            " [ 9.26779190e-01]\n",
            " [ 2.29309366e-01]\n",
            " [-1.11693499e+00]\n",
            " [-5.97925772e-01]\n",
            " [-2.73500793e-01]\n",
            " [-1.56771549e-01]\n",
            " [ 1.16190590e+00]\n",
            " [ 1.59011625e-01]\n",
            " [-4.67449849e-01]\n",
            " [-6.38273683e-01]\n",
            " [-8.83334376e-01]\n",
            " [ 1.75961969e+00]\n",
            " [ 1.80167431e+00]\n",
            " [ 1.11219859e+00]\n",
            " [ 4.42132432e-01]\n",
            " [ 5.88570995e-01]\n",
            " [-1.45130015e+00]\n",
            " [-2.63579336e-02]\n",
            " [-5.37666258e-01]\n",
            " [-1.98170457e+00]\n",
            " [-1.44077029e+00]\n",
            " [-9.50625684e-01]\n",
            " [ 1.09037128e-01]\n",
            " [ 6.62145792e-01]\n",
            " [ 6.61614009e-01]\n",
            " [ 6.78852928e-01]\n",
            " [ 6.18612576e-01]\n",
            " [ 1.11287276e-01]\n",
            " [-6.79482527e-01]\n",
            " [-1.12205688e+00]\n",
            " [ 3.09393178e-01]\n",
            " [-2.94416149e-01]\n",
            " [ 4.97882042e-02]\n",
            " [-2.06196493e+00]\n",
            " [ 1.92697797e-01]\n",
            " [-1.34016647e+00]\n",
            " [ 8.36879108e-01]\n",
            " [ 3.44747213e-01]\n",
            " [-1.20210694e+00]\n",
            " [ 1.96205219e+00]\n",
            " [ 8.23740439e-01]\n",
            " [-7.50247359e-01]\n",
            " [ 2.23157476e-01]\n",
            " [ 1.28850315e+00]\n",
            " [ 5.20045429e-01]\n",
            " [-1.01931766e+00]\n",
            " [ 3.64870541e-02]\n",
            " [ 4.58416067e-01]\n",
            " [ 1.02680248e-01]\n",
            " [ 1.95014936e+00]\n",
            " [-4.54617700e-04]\n",
            " [-1.10737000e-01]\n",
            " [-1.95926129e+00]\n",
            " [ 3.83296521e-02]\n",
            " [ 1.80894543e+00]\n",
            " [ 4.41912686e-01]\n",
            " [-6.46166924e-01]\n",
            " [ 2.07625075e-01]\n",
            " [-1.77902060e+00]\n",
            " [ 3.46412998e-01]\n",
            " [ 9.75843925e-01]\n",
            " [ 2.51755176e-01]\n",
            " [-7.26529270e-01]\n",
            " [-8.79002036e-01]\n",
            " [ 4.97830261e-01]\n",
            " [ 1.68608269e+00]\n",
            " [ 4.29189597e-01]\n",
            " [-2.26826326e+00]\n",
            " [ 1.69335494e+00]\n",
            " [ 3.00209295e-01]\n",
            " [ 8.35750738e-01]\n",
            " [ 1.07779470e-01]\n",
            " [ 6.69869208e-01]\n",
            " [-1.07581699e+00]\n",
            " [ 3.65705005e-01]\n",
            " [-5.55056211e-01]\n",
            " [ 1.44598162e-01]\n",
            " [-1.11536840e+00]\n",
            " [ 1.99045877e+00]\n",
            " [-4.52418258e-02]\n",
            " [ 1.33413371e+00]]\n"
          ]
        },
        {
          "data": {
            "text/plain": [
              "Text(0.5, 1.0, 'Data with constant variance')"
            ]
          },
          "execution_count": 8,
          "metadata": {},
          "output_type": "execute_result"
        },
        {
          "data": {
            "image/png": "[encoded data removed]",
            "text/plain": [
              "<Figure size 432x288 with 1 Axes>"
            ]
          },
          "metadata": {
            "needs_background": "light"
          },
          "output_type": "display_data"
        }
      ],
      "source": [
        "## Generating some data with constant variance /noise\n",
        "# This is the assumption of linear regression\n",
        "# \n",
        "x = np.arange(100).reshape(100,1)\n",
        "intercept_ = 6\n",
        "slope_ = 0.1\n",
        "#print(x)\n",
        "\n",
        "## non constant error\n",
        "error_ = np.random.normal(size = (100,1), loc = 0.0, scale = 1)\n",
        "print(error_)\n",
        "\n",
        "## Regression equation\n",
        "y = intercept_ + slope_ * x + error_\n",
        "#print(y)\n",
        "\n",
        "plt.figure(1)\n",
        "plt.scatter(x, y)\n",
        "plt.xlabel(\"x\")\n",
        "plt.ylabel(\"y\")\n",
        "plt.title(\"Data with constant variance\")\n",
        "\n",
        "# When we move from left to right along the x-axis, \n",
        "# we won’t see a lot of variation in the values of y. \n",
        "# An linear regression would be the ideal candidate \n",
        "# here to model the data.\n",
        "#print(x)"
      ]
    },
    {
      "cell_type": "code",
      "execution_count": 9,
      "metadata": {
        "colab": {
          "base_uri": "https://localhost:8080/",
          "height": 51
        },
        "id": "-5tnAc82VZm5",
        "outputId": "36d92d91-bd19-4a20-9e4d-41eb4d8711c5"
      },
      "outputs": [
        {
          "name": "stdout",
          "output_type": "stream",
          "text": [
            "Mean squared error: 0.92\n",
            "Variance score: 0.91\n"
          ]
        }
      ],
      "source": [
        "## Creating a linear regression model regression on the above dataset\n",
        "#\n",
        "from sklearn.linear_model import LinearRegression\n",
        "\n",
        "model1 = LinearRegression(fit_intercept = True, normalize = False)\n",
        "model1.fit(x, y)\n",
        "\n",
        "y_pred1 = model1.predict(x)\n",
        "\n",
        "print(\"Mean squared error: {0:.2f}\"\n",
        "      .format(np.mean((y_pred1 - y) ** 2)))\n",
        "print('Variance score: {0:.2f}'.format(model1.score(x, y)))\n"
      ]
    },
    {
      "cell_type": "code",
      "execution_count": 11,
      "metadata": {
        "colab": {
          "base_uri": "https://localhost:8080/",
          "height": 295
        },
        "id": "Ijz5Y55TWnTJ",
        "outputId": "0d238247-8ff9-4420-8e0c-a48460615331"
      },
      "outputs": [
        {
          "data": {
            "text/plain": [
              "Text(0.5, 1.0, 'Linear regression')"
            ]
          },
          "execution_count": 11,
          "metadata": {},
          "output_type": "execute_result"
        },
        {
          "data": {
            "image/png": "[encoded data removed]",
            "text/plain": [
              "<Figure size 432x288 with 1 Axes>"
            ]
          },
          "metadata": {},
          "output_type": "display_data"
        }
      ],
      "source": [
        "## Plotting the regression\n",
        "plt.figure(2)\n",
        "plt.scatter(x, y,  color='black')\n",
        "plt.plot(x, y_pred1, color='blue',\n",
        "         linewidth=3)\n",
        "\n",
        "plt.xticks(())\n",
        "plt.yticks(())\n",
        "plt.xlabel(\"x\")\n",
        "plt.ylabel(\"y and predicted y\")\n",
        "plt.title(\"Linear regression\")\n",
        "\n",
        "# This will lead to us having modeled our data well on our dataset.\n",
        "# Our variance score of 0.88 is close to 1 which usually is when\n",
        "# we model our data perfectly. \n",
        "# NB: our variance score will vary based on the randomly generated values above"
      ]
    },
    {
      "cell_type": "code",
      "execution_count": 12,
      "metadata": {
        "colab": {
          "base_uri": "https://localhost:8080/",
          "height": 312
        },
        "id": "PiPAlrzKVgUz",
        "outputId": "f1d461d1-05f5-4996-9807-a5b1434819c6"
      },
      "outputs": [
        {
          "data": {
            "text/plain": [
              "Text(0.5, 1.0, 'Data with non-constant variance')"
            ]
          },
          "execution_count": 12,
          "metadata": {},
          "output_type": "execute_result"
        },
        {
          "data": {
            "image/png": "[encoded data removed]",
            "text/plain": [
              "<Figure size 432x288 with 1 Axes>"
            ]
          },
          "metadata": {
            "needs_background": "light"
          },
          "output_type": "display_data"
        }
      ],
      "source": [
        "## Now let get to work with some data that violates \n",
        "# our linear regression assumption. This means first \n",
        "# adding some noise to our dataset. \n",
        "# We will first generating some data with non-constant variance\n",
        "# \n",
        "x_ = np.arange(100).reshape(100,1)\n",
        "intercept_ = 6\n",
        "slope_ = 0.1\n",
        "\n",
        "## Non constant variance\n",
        "var_ = 0.1 + 0.05 * x_\n",
        "\n",
        "## non constant error\n",
        "error_ = np.random.normal(size = (100,1), loc = 0.0, scale = var_)\n",
        "\n",
        "## Linear egression equation\n",
        "y_ = intercept_ + slope_ * x + error_\n",
        "\n",
        "plt.figure(3)\n",
        "plt.scatter(x_, y_)\n",
        "plt.xlabel(\"x\")\n",
        "plt.ylabel(\"y\")\n",
        "plt.title(\"Data with non-constant variance\")\n",
        "\n",
        "# From our graph, we will get to see that a phenomenon\n",
        "# where the variability of y is unequal across the range \n",
        "# of values of x is called as Heteroscedasticity. \n",
        "# As it will be seen in the plot it takes the shape of a cone. \n",
        "# The y variable widens as the value of x increases."
      ]
    },
    {
      "cell_type": "code",
      "execution_count": 13,
      "metadata": {
        "colab": {
          "base_uri": "https://localhost:8080/",
          "height": 51
        },
        "id": "AuWvBT5aVsRn",
        "outputId": "9c5bea8a-5def-40a7-dad2-fc7c375c983c"
      },
      "outputs": [
        {
          "name": "stdout",
          "output_type": "stream",
          "text": [
            "Mean squared error: 7.85\n",
            "Variance score: 0.55\n"
          ]
        }
      ],
      "source": [
        "## Let's now trying to fit a linear regression\n",
        "# \n",
        "model2 = LinearRegression(fit_intercept = True, normalize = False)\n",
        "model2.fit(x_, y_)\n",
        "\n",
        "y_pred2 = model2.predict(x_)\n",
        "\n",
        "print\n",
        "print(\"Mean squared error: {0:.2f}\"\n",
        "      .format(np.mean((y_pred2 - y_) ** 2)))\n",
        "print('Variance score: {0:.2f}'.format(model1.score(x_, y_)))\n",
        "\n",
        "# With a low variance score of 0.51, it means that our linear regression \n",
        "# did not do a good job. "
      ]
    },
    {
      "cell_type": "code",
      "execution_count": 14,
      "metadata": {
        "colab": {
          "base_uri": "https://localhost:8080/",
          "height": 295
        },
        "id": "qWScml7qV2zN",
        "outputId": "8cae2c63-2a23-4095-bf5e-6ec0f8794198"
      },
      "outputs": [
        {
          "data": {
            "text/plain": [
              "Text(0.5, 1.0, 'Linear regression on data with non-constant variance')"
            ]
          },
          "execution_count": 14,
          "metadata": {},
          "output_type": "execute_result"
        },
        {
          "data": {
            "image/png": "[encoded data removed]",
            "text/plain": [
              "<Figure size 432x288 with 1 Axes>"
            ]
          },
          "metadata": {},
          "output_type": "display_data"
        }
      ],
      "source": [
        "## We can also see this by plotting the regression below\n",
        "#\n",
        "plt.figure(4)\n",
        "plt.scatter(x_, y_,  color='black')\n",
        "plt.plot(x_, y_pred2, color='blue',\n",
        "         linewidth=3)\n",
        "\n",
        "plt.xticks(())\n",
        "plt.yticks(())\n",
        "plt.xlabel(\"x\")\n",
        "plt.ylabel(\"y and predicted y\")\n",
        "plt.title(\"Linear regression on data with non-constant variance\")\n",
        "\n",
        "# We will get to observe that our line of best fit is far from perfect"
      ]
    },
    {
      "cell_type": "code",
      "execution_count": 15,
      "metadata": {
        "colab": {
          "base_uri": "https://localhost:8080/",
          "height": 204
        },
        "id": "tdT2DaUSV9s7",
        "outputId": "129231f4-92fb-4391-c00c-0d5f5a4afff1"
      },
      "outputs": [
        {
          "data": {
            "text/html": [
              "<div>\n",
              "<style scoped>\n",
              "    .dataframe tbody tr th:only-of-type {\n",
              "        vertical-align: middle;\n",
              "    }\n",
              "\n",
              "    .dataframe tbody tr th {\n",
              "        vertical-align: top;\n",
              "    }\n",
              "\n",
              "    .dataframe thead th {\n",
              "        text-align: right;\n",
              "    }\n",
              "</style>\n",
              "<table border=\"1\" class=\"dataframe\">\n",
              "  <thead>\n",
              "    <tr style=\"text-align: right;\">\n",
              "      <th></th>\n",
              "      <th>x</th>\n",
              "      <th>y</th>\n",
              "    </tr>\n",
              "  </thead>\n",
              "  <tbody>\n",
              "    <tr>\n",
              "      <th>0</th>\n",
              "      <td>0.0</td>\n",
              "      <td>5.856948</td>\n",
              "    </tr>\n",
              "    <tr>\n",
              "      <th>1</th>\n",
              "      <td>1.0</td>\n",
              "      <td>6.024790</td>\n",
              "    </tr>\n",
              "    <tr>\n",
              "      <th>2</th>\n",
              "      <td>2.0</td>\n",
              "      <td>6.329196</td>\n",
              "    </tr>\n",
              "    <tr>\n",
              "      <th>3</th>\n",
              "      <td>3.0</td>\n",
              "      <td>6.405714</td>\n",
              "    </tr>\n",
              "    <tr>\n",
              "      <th>4</th>\n",
              "      <td>4.0</td>\n",
              "      <td>7.145386</td>\n",
              "    </tr>\n",
              "  </tbody>\n",
              "</table>\n",
              "</div>"
            ],
            "text/plain": [
              "     x         y\n",
              "0  0.0  5.856948\n",
              "1  1.0  6.024790\n",
              "2  2.0  6.329196\n",
              "3  3.0  6.405714\n",
              "4  4.0  7.145386"
            ]
          },
          "execution_count": 15,
          "metadata": {},
          "output_type": "execute_result"
        }
      ],
      "source": [
        "## Now implementing quantile regression for the median, 0.5th quantile\n",
        "#\n",
        "\n",
        "# We import the required libraries\n",
        "#  \n",
        "import pandas as pd \n",
        "\n",
        "# We take the data into a pandas dataframe so that \n",
        "# its easier for us to work with statsmodel interfaces. \n",
        "# Our dataframe data has two columns, ‘x’ and ‘y’\n",
        "#\n",
        "data = pd.DataFrame(data = np.hstack([x_, y_]), columns = [\"x\", \"y\"])\n",
        "data.head()"
      ]
    },
    {
      "cell_type": "code",
      "execution_count": 19,
      "metadata": {
        "colab": {
          "base_uri": "https://localhost:8080/",
          "height": 255
        },
        "id": "xRAZMtNHhv13",
        "outputId": "3d251a7c-194c-4d8f-e669-45adaeb68339"
      },
      "outputs": [
        {
          "name": "stdout",
          "output_type": "stream",
          "text": [
            "<statsmodels.regression.linear_model.RegressionResultsWrapper object at 0x00000236C8722FA0>\n",
            "                         QuantReg Regression Results                          \n",
            "==============================================================================\n",
            "Dep. Variable:                      y   Pseudo R-squared:               0.3951\n",
            "Model:                       QuantReg   Bandwidth:                       2.033\n",
            "Method:                 Least Squares   Sparsity:                        5.394\n",
            "Date:                Wed, 13 Oct 2021   No. Observations:                  100\n",
            "Time:                        11:14:36   Df Residuals:                       98\n",
            "                                        Df Model:                            1\n",
            "==============================================================================\n",
            "                 coef    std err          t      P>|t|      [0.025      0.975]\n",
            "------------------------------------------------------------------------------\n",
            "Intercept      6.0259      0.535     11.255      0.000       4.963       7.088\n",
            "x              0.0947      0.009     10.136      0.000       0.076       0.113\n",
            "==============================================================================\n"
          ]
        }
      ],
      "source": [
        "# We will use the python package statsmodels for Quantile Regression\n",
        "#\n",
        "import statsmodels.formula.api as smf\n",
        "\n",
        "# Finding the regression coefficients for the conditioned median, 0.5 quantile\n",
        "#\n",
        "mod = smf.quantreg('y ~ x', data)\n",
        "res = mod.fit(q=.5)\n",
        "\n",
        "# Then print out the summary of our model\n",
        "print(res)\n",
        "#\n",
        "print(res.summary())\n",
        "\n",
        "# You see that our intercept is 6.0978 and our slope or the coefficient for our x is 0.0976. \n",
        "# These are the parameters for the 0.5th quantile of our y. "
      ]
    },
    {
      "cell_type": "code",
      "execution_count": 22,
      "metadata": {
        "colab": {
          "base_uri": "https://localhost:8080/",
          "height": 187
        },
        "id": "S5P4AV3LWCdn",
        "outputId": "0b4d1e27-d75f-44dc-8caf-e47d88610e27"
      },
      "outputs": [
        {
          "name": "stdout",
          "output_type": "stream",
          "text": [
            "    qt  intercept    x_coef  cf_lower_bound  cf_upper_bound\n",
            "0  0.1   5.670529  0.046496        0.029042        0.063950\n",
            "1  0.2   5.337001  0.074290        0.057966        0.090614\n",
            "2  0.3   5.727925  0.079616        0.062836        0.096397\n",
            "3  0.4   5.856948  0.085791        0.067520        0.104062\n",
            "4  0.5   6.025938  0.094709        0.076168        0.113251\n",
            "5  0.6   6.074961  0.110251        0.088884        0.131618\n",
            "6  0.7   6.087656  0.120770        0.098219        0.143322\n",
            "7  0.8   6.041065  0.144064        0.118930        0.169199\n",
            "8  0.9   6.424348  0.159246        0.137233        0.181259\n"
          ]
        }
      ],
      "source": [
        "## Similarly we can do the models for other quantiles\n",
        "# \n",
        "quantiles = np.arange(0.1,1,0.1) \n",
        "models = []\n",
        "params = []\n",
        "\n",
        "# We build models for each quantile in our list quantiles inside a for loop\n",
        "# As we build these models we also store the model parameters in a list called params. \n",
        "for qt in quantiles: \n",
        "\tres = mod.fit(q = qt )\n",
        "\tmodels.append(res)\n",
        "\tparams.append([qt, res.params['Intercept'], res.params['x']] + res.conf_int().loc['x'].tolist())\n",
        "\n",
        "# Lastly we make a dataframe of the same name, so we we can view our different models.\n",
        "params = pd.DataFrame(data = params, columns = ['qt', 'intercept', 'x_coef', 'cf_lower_bound', 'cf_upper_bound'])\n",
        "print(params)"
      ]
    },
    {
      "cell_type": "code",
      "execution_count": 23,
      "metadata": {
        "colab": {
          "base_uri": "https://localhost:8080/",
          "height": 295
        },
        "id": "7e-ZymahWFq1",
        "outputId": "1e037cff-e5ec-4840-d936-0f804aeb42c2"
      },
      "outputs": [
        {
          "data": {
            "text/plain": [
              "<matplotlib.legend.Legend at 0x236cab722e0>"
            ]
          },
          "execution_count": 23,
          "metadata": {},
          "output_type": "execute_result"
        },
        {
          "data": {
            "image/png": "[encoded data removed]",
            "text/plain": [
              "<Figure size 432x288 with 1 Axes>"
            ]
          },
          "metadata": {},
          "output_type": "display_data"
        }
      ],
      "source": [
        "## Let us now plot 0.1th, 0.5th and 0.9th quantile models against our original data.\n",
        "# \n",
        "plt.figure(5)\n",
        "plt.scatter(x_, y_,  color='black')\n",
        "plt.plot(x_, y_pred2, color='blue',\n",
        "         linewidth=3, label='Lin Reg')\n",
        "\n",
        "y_pred3 = models[0].params['Intercept'] + models[0].params['x'] * x_\n",
        "plt.plot(x_, y_pred3, color='red',\n",
        "         linewidth=3, label='Q Reg : 0.1')\n",
        "\n",
        "y_pred4 = models[4].params['Intercept'] + models[4].params['x'] * x_\n",
        "plt.plot(x_, y_pred4, color='green',\n",
        "         linewidth=3, label='Q Reg : 0.5')\n",
        "\n",
        "\n",
        "y_pred5 = models[8].params['Intercept'] + models[8].params['x'] * x_\n",
        "plt.plot(x_, y_pred5, color='cyan',\n",
        "         linewidth=3, label='Q Reg : 0.9')\n",
        "\n",
        "plt.xticks(())\n",
        "plt.yticks(())\n",
        "plt.xlabel(\"x\")\n",
        "plt.ylabel(\"y and predicted y\")\n",
        "plt.title(\"Quantile regression on data with non-constant variance\")\n",
        "plt.legend()\n",
        "\n",
        "# Linear regression is plotted with the blue colored line. \n",
        "# We can compare that model with other quantile models."
      ]
    },
    {
      "cell_type": "code",
      "execution_count": 24,
      "metadata": {
        "colab": {
          "base_uri": "https://localhost:8080/",
          "height": 312
        },
        "id": "widCFKRRWKM-",
        "outputId": "07dde981-63de-48a1-9721-d5780869bda4"
      },
      "outputs": [
        {
          "data": {
            "text/plain": [
              "<Figure size 432x288 with 0 Axes>"
            ]
          },
          "metadata": {},
          "output_type": "display_data"
        },
        {
          "data": {
            "image/png": "[encoded data removed]",
            "text/plain": [
              "<Figure size 432x288 with 1 Axes>"
            ]
          },
          "metadata": {
            "needs_background": "light"
          },
          "output_type": "display_data"
        }
      ],
      "source": [
        "## Plot the changes in the quantile coeffiecients\n",
        "# \n",
        "import matplotlib.pyplot as plt\n",
        "plt.figure(6)\n",
        "params.plot(x = 'qt', y = ['x_coef','cf_lower_bound', 'cf_upper_bound'], \n",
        "\ttitle = 'Slope for different quantiles', kind ='line', style = ['b-','r--','g--'])\n",
        "plt.show()\n",
        "# We would be able to see how the slope value varies for different quantiles. \n",
        "# Compared with linear regression which is flat across all the quantiles, \n",
        "# Quantile Regression allows us to investigate into the different areas of the data \n",
        "# and model them appropriately."
      ]
    },
    {
      "cell_type": "markdown",
      "metadata": {
        "id": "lzkfunpKNXt9"
      },
      "source": [
        "## <font color=\"green\">Challenge 1</font>"
      ]
    },
    {
      "cell_type": "code",
      "execution_count": null,
      "metadata": {
        "id": "W6EUAQ3SNgYF"
      },
      "outputs": [],
      "source": [
        "# Challenge 1\n",
        "# ---\n",
        "# Question: Study the factors that influence total medical expenditures for people with low-, medium-, and high- expenditures.\n",
        "# ---\n",
        "# Dataset url = http://bit.ly/QuantileHealthDataset\n",
        "# ---\n",
        "# Info:\n",
        "# Data are from the Medical Expenditure Panel Survey (MEPS)\n",
        "# Dependent variable: total medical expenditures\n",
        "# Independent variables: has supplemental insurance, total number of chronic conditions, age, female, and white\n",
        "# \n",
        "OUR CODE GOES HERE"
      ]
    },
    {
      "cell_type": "markdown",
      "metadata": {
        "id": "aQHwQ96zNZlL"
      },
      "source": [
        "## <font color=\"green\">Challenge 2"
      ]
    },
    {
      "cell_type": "code",
      "execution_count": null,
      "metadata": {
        "id": "pIRcWXfCNhyp"
      },
      "outputs": [],
      "source": [
        "# Challenge 2\n",
        "# ---\n",
        "# Question: Given the household income data, determine the effect of predictor variables on the independent variable.\n",
        "# ---\n",
        "# Dataset source = http://bit.ly/USHouseholdDataset\n",
        "# ---\n",
        "# \n",
        "OUR CODE GOES HERE"
      ]
    },
    {
      "cell_type": "markdown",
      "metadata": {
        "id": "Q2QHClUXNa-P"
      },
      "source": [
        "## <font color=\"green\">Challenge 3</font>"
      ]
    },
    {
      "cell_type": "code",
      "execution_count": null,
      "metadata": {
        "id": "de_EsL_WNjJS"
      },
      "outputs": [],
      "source": [
        "# Challenge 3\n",
        "# ---\n",
        "# Question: Create a regression model on the following dataset.\n",
        "# ---\n",
        "# Dataset url = http://bit.ly/MtCarsDataset\n",
        "# ---\n",
        "# "
      ]
    }
  ],
  "metadata": {
    "colab": {
      "collapsed_sections": [
        "BcDf24f1UrL-",
        "lzkfunpKNXt9",
        "aQHwQ96zNZlL",
        "Q2QHClUXNa-P"
      ],
      "name": "Python Programming: Quantile Regression",
      "provenance": [],
      "toc_visible": true
    },
    "interpreter": {
      "hash": "8e24f623c9d976e65e43b538ecbbc4d478524c94015e92b14b460358aba5245a"
    },
    "kernelspec": {
      "display_name": "Python 3.8.5 64-bit ('base': conda)",
      "name": "python3"
    },
    "language_info": {
      "codemirror_mode": {
        "name": "ipython",
        "version": 3
      },
      "file_extension": ".py",
      "mimetype": "text/x-python",
      "name": "python",
      "nbconvert_exporter": "python",
      "pygments_lexer": "ipython3",
      "version": "3.8.5"
    }
  },
  "nbformat": 4,
  "nbformat_minor": 0
}
