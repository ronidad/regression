{
  "cells": [
    {
      "cell_type": "markdown",
      "metadata": {
        "id": "0J6i3jHftz7H"
      },
      "source": [
        "<font color=\"green\">*To start working on this notebook, or any other notebook that we will use in the Moringa Data Science Course, we will need to save our own copy of it. We can do this by clicking File > Save a Copy in Drive. We will then be able to make edits to our own copy of this notebook.*</font>"
      ]
    },
    {
      "cell_type": "markdown",
      "metadata": {
        "id": "1gdLmzAE1NRn"
      },
      "source": [
        "# Python Programming: Ridge Regression"
      ]
    },
    {
      "cell_type": "markdown",
      "metadata": {
        "id": "qa33QGdE1vQe"
      },
      "source": [
        "## 1.0 Example "
      ]
    },
    {
      "cell_type": "code",
      "execution_count": 1,
      "metadata": {
        "id": "uqjexWue1I72"
      },
      "outputs": [],
      "source": [
        "# Example \n",
        "# ---\n",
        "# Regularization is the process of penalizing coefficients of variables either by removing them and or reducing their impact. \n",
        "# Ridge regression reduces the effect of problematic variables close to zero but never fully removes them. \n",
        "# ---\n",
        "# Question: Build a regrssion model to predict expenses based on the variables available.\n",
        "# ---\n",
        "# Dataset source: Pydataset Library: VietNamI Dataset\n",
        "# ---\n",
        "#"
      ]
    },
    {
      "cell_type": "code",
      "execution_count": 1,
      "metadata": {
        "id": "b3Lmc0ijk7qS"
      },
      "outputs": [],
      "source": [
        "# Importing our libraries\n",
        "# \n",
        "import numpy as np\n",
        "import pandas as pd\n",
        "from sklearn.model_selection import GridSearchCV\n",
        "from sklearn.linear_model import Ridge\n",
        "from sklearn.linear_model import LinearRegression\n",
        "from sklearn.metrics import mean_squared_error"
      ]
    },
    {
      "cell_type": "code",
      "execution_count": 2,
      "metadata": {
        "id": "JNS5ONaGk88J"
      },
      "outputs": [],
      "source": [
        "# installing !pip install pydataset and importing pydataset so as to use a dataset from the package\n",
        "# \n",
        "from pydataset import data "
      ]
    },
    {
      "cell_type": "code",
      "execution_count": 5,
      "metadata": {
        "id": "Qiv1NUe2qDaK"
      },
      "outputs": [
        {
          "data": {
            "text/plain": [
              "1        2.730363\n",
              "2        2.737248\n",
              "3        2.266935\n",
              "4        2.392753\n",
              "5        3.105335\n",
              "           ...   \n",
              "27762    1.847290\n",
              "27763    2.461460\n",
              "27764    2.460262\n",
              "27765    1.920169\n",
              "27766    2.468833\n",
              "Name: lnhhexp, Length: 27765, dtype: float64"
            ]
          },
          "execution_count": 5,
          "metadata": {},
          "output_type": "execute_result"
        }
      ],
      "source": [
        "# Data Preparation\n",
        "# \n",
        "\n",
        "# Loading the data and convert the sex variable to a dummy variable\n",
        "#\n",
        "df = pd.DataFrame(data('VietNamI'))\n",
        "df.loc[df.sex== 'male', 'sex'] = 0\n",
        "df.loc[df.sex== 'female','sex'] = 1\n",
        "df['sex'] = df['sex'].astype(int)\n",
        "\n",
        "# Setting up our X and y datasets\n",
        "#\n",
        "X = df[['pharvis','age','sex','married','educ','illness','injury','illdays','actdays','insurance']]\n",
        "y = df['lnhhexp']\n",
        "y"
      ]
    },
    {
      "cell_type": "code",
      "execution_count": 6,
      "metadata": {
        "id": "nNhuD8WJqGFb"
      },
      "outputs": [
        {
          "name": "stdout",
          "output_type": "stream",
          "text": [
            "0.35528915032173053\n"
          ]
        }
      ],
      "source": [
        "# Creating our baseline regression model\n",
        "# This is a model that has no regularization to it\n",
        "# \n",
        "regression = LinearRegression()\n",
        "regression.fit(X,y)\n",
        "first_model = (mean_squared_error(y_true=y,y_pred=regression.predict(X)))\n",
        "print(first_model)\n",
        "\n",
        "# The output  value of 0.355289 will be our indicator to determine if the regularized ridge regression model is superior or not."
      ]
    },
    {
      "cell_type": "code",
      "execution_count": 7,
      "metadata": {
        "id": "HaImX3JnqN4o"
      },
      "outputs": [],
      "source": [
        "# In order to create our ridge model we need to first determine the most appropriate value for the l2 regularization. \n",
        "# L2 is the name of the hyperparameter that is used in ridge regression. \n",
        "# Determining the value of a hyperparameter requires the use of a grid. \n",
        "# In the code below, we first create our ridge model and indicate normalization in order to get better estimates. \n",
        "# Next we setup the grid that we will use. \n",
        "# The search object has several arguments within it. Alpha is hyperparameter we are trying to set. \n",
        "# The log space is the range of values we want to test. \n",
        "# We want the log of -5 to 2, but we only get 8 values from within that range evenly spread out. \n",
        "# Are metric is the mean squared error. Refit set true means to adjust the parameters while modeling \n",
        "# and cv is the number of folds to develop for the cross-validation. \n",
        "#\n",
        "ridge = Ridge(normalize=True)\n",
        "search = GridSearchCV(estimator=ridge,param_grid={'alpha':np.logspace(-5,2,8)},scoring='neg_mean_squared_error',n_jobs=1,refit=True,cv=10)"
      ]
    },
    {
      "cell_type": "code",
      "execution_count": 8,
      "metadata": {
        "id": "LrLMVyuEqSnv"
      },
      "outputs": [
        {
          "data": {
            "text/plain": [
              "0.38013256937541345"
            ]
          },
          "execution_count": 8,
          "metadata": {},
          "output_type": "execute_result"
        }
      ],
      "source": [
        "# We now use the .fit function to run the model and then use the .best_params_ and\n",
        "#  .best_scores_ function to determine the models strength. \n",
        "# \n",
        "search.fit(X,y)\n",
        "search.best_params_\n",
        "{'alpha': 0.01}\n",
        "abs(search.best_score_) \n",
        "\n",
        "# The best_params_ tells us what to set alpha too which in this case is 0.01. \n",
        "# The best_score_ tells us what the best possible mean squared error is. \n",
        "# In this case, the value of 0.38 is worse than what the baseline model was. "
      ]
    },
    {
      "cell_type": "code",
      "execution_count": 9,
      "metadata": {
        "id": "VqifjT6IqUx1"
      },
      "outputs": [
        {
          "name": "stdout",
          "output_type": "stream",
          "text": [
            "0.35529321992606566\n"
          ]
        }
      ],
      "source": [
        "# We can confirm this by fitting our model with the ridge information and finding the mean squared error below\n",
        "#\n",
        "ridge = Ridge(normalize=True,alpha=0.01)\n",
        "ridge.fit(X,y)\n",
        "second_model = (mean_squared_error(y_true=y,y_pred=ridge.predict(X)))\n",
        "print(second_model)"
      ]
    },
    {
      "cell_type": "code",
      "execution_count": 10,
      "metadata": {
        "id": "RJ_jJd7WqchO"
      },
      "outputs": [
        {
          "data": {
            "text/plain": [
              "{'pharvis': 0.013282050886951472,\n",
              " 'lnhhexp': 0.06480086550467927,\n",
              " 'age': 0.0040124122787959186,\n",
              " 'sex': -0.08739614349708912,\n",
              " 'married': 0.07527646383836173,\n",
              " 'educ': -0.0618092130060028,\n",
              " 'illness': 0.04087038457896277,\n",
              " 'injury': -0.002763768716569054,\n",
              " 'illdays': -0.0067170633108931,\n",
              " 'actdays': 0.14687843649771162}"
            ]
          },
          "execution_count": 10,
          "metadata": {},
          "output_type": "execute_result"
        }
      ],
      "source": [
        "# The 0.35 is lower than the 0.38. This is because the last results are not cross-validated. \n",
        "# In addition, these results indicate that there is little difference between the ridge and baseline models. \n",
        "# This is confirmed with the coefficients of each model found below.\n",
        "# \n",
        "coef_dict_baseline = {}\n",
        "for coef, feat in zip(regression.coef_,data(\"VietNamI\").columns):\n",
        "    coef_dict_baseline[feat] = coef\n",
        "coef_dict_baseline\n",
        "\n",
        "# The coefficient values are about the same. This means that the penalization made little difference with this dataset."
      ]
    },
    {
      "cell_type": "markdown",
      "metadata": {
        "id": "hTqFcUIQuO_3"
      },
      "source": [
        "## 2.0 Challenges"
      ]
    },
    {
      "cell_type": "markdown",
      "metadata": {
        "id": "kke3w5L512WF"
      },
      "source": [
        "### <font color=\"green\">Challenge 1</font>"
      ]
    },
    {
      "cell_type": "code",
      "execution_count": null,
      "metadata": {
        "id": "Oo4qdt_F10I1"
      },
      "outputs": [],
      "source": [
        "# Challenge 1 \n",
        "# ---\n",
        "# Question: Build an accurate model that can estimate the weight of fish given the following dataset.\n",
        "# ---\n",
        "# Dataset url = http://bit.ly/FishDataset\n",
        "# ---\n",
        "# \n",
        "OUR CODE GOES HERE"
      ]
    },
    {
      "cell_type": "markdown",
      "metadata": {
        "id": "3-BreaBg2FdS"
      },
      "source": [
        "### <font color=\"green\">Challenge 2</font>"
      ]
    },
    {
      "cell_type": "code",
      "execution_count": null,
      "metadata": {
        "id": "LwOJURwR2G0Q"
      },
      "outputs": [],
      "source": [
        "# Challenge 2\n",
        "# ---\n",
        "# Question: Build a regression algorithm for predicting unemployment within an economy.\n",
        "# ---\n",
        "# Dataset url = http://bit.ly/EconomicDataset\n",
        "# ---\n",
        "# Dataset Info\n",
        "# 1. date. Month of data collection\n",
        "# 2. psavert, personal savings rate\n",
        "# 3. pce, personal consumption expenditures, in billions of dollars\n",
        "# 4. unemploy, number of unemployed in thousands \n",
        "# 5. empmed, median duration of unemployment, in week\n",
        "# 6. pop, total population, in thousands\n",
        "# ---\n",
        "# \n",
        "OUR CODE GOES HERE"
      ]
    },
    {
      "cell_type": "markdown",
      "metadata": {
        "id": "AMM6ePT52H0Z"
      },
      "source": [
        "### <font color=\"green\">Challenge 3</font>"
      ]
    },
    {
      "cell_type": "code",
      "execution_count": null,
      "metadata": {
        "id": "vUGrmjzy2JDy"
      },
      "outputs": [],
      "source": [
        "# Challenge 3\n",
        "# ---\n",
        "# Question: Build a regression model to predict the life expectancy of a country. \n",
        "# Apply ridge regression to your model.\n",
        "# ---\n",
        "# Dataset url = http://bit.ly/LifeExpectancyDataset\n",
        "# ---\n",
        "# Dataset Info:\n",
        "# Country: Country\n",
        "# Year: Year\n",
        "# Status: Developed or Developing status\n",
        "# Life expectancy: Life Expectancy in age\n",
        "# Adult Mortality: Adult Mortality Rates of both sexes (probability of dying between 15 and 60 years per 1000 population)\n",
        "# infant deaths: Number of Infant Deaths per 1000 population\n",
        "# Alcohol: Alcohol, recorded per capita (15+) consumption (in litres of pure alcohol)\n",
        "# percentage expenditure: Expenditure on health as a percentage of Gross Domestic Product per capita(%)\n",
        "# Hepatitis B: Hepatitis B (HepB) immunization coverage among 1-year-olds (%)\n",
        "# Measles: Measles: number of reported cases per 1000 population\n",
        "# BMI: Average Body Mass Index of entire population\n",
        "# under-five: deaths Number of under-five deaths per 1000 population\n",
        "# Polio: Polio (Pol3) immunization coverage among 1-year-olds (%)\n",
        "# Total expenditure: General government expenditure on health as a percentage of total government expenditure (%)\n",
        "# Diphtheria: Diphtheria tetanus toxoid and pertussis (DTP3) immunization coverage among 1-year-olds (%)\n",
        "# HIV/AIDS: Deaths per 1 000 live births HIV/AIDS (0-4 years)\n",
        "# GDP: Gross Domestic Product per capita (in USD)\n",
        "# Population: Population of the country\n",
        "# thinness 1-19 years: Prevalence of thinness among children and adolescents for Age 10 to 19 (% )\n",
        "# thinness 5-9 years: Prevalence of thinness among children for Age 5 to 9(%)\n",
        "# Income composition of resources: Human Development Index in terms of income composition of resources (index ranging from 0 to 1)\n",
        "# Schooling: Number of years of Schooling(years)\n",
        "# ---\n",
        "# \n",
        "OUR CODE GOES HERE"
      ]
    },
    {
      "cell_type": "markdown",
      "metadata": {
        "id": "CfPAQs0M2Jwi"
      },
      "source": [
        "### <font color=\"green\">Challenge 4</font>"
      ]
    },
    {
      "cell_type": "code",
      "execution_count": null,
      "metadata": {
        "id": "2E00VHOX2LwW"
      },
      "outputs": [],
      "source": [
        "# Challenge 4\n",
        "# ---\n",
        "# Question: Given the beauty dataset below, create a regression model to predict wages upon applying ridge regression.\n",
        "# ---\n",
        "# Dataset url = http://bit.ly/BeautyDataset\n",
        "# ---\n",
        "# \n",
        "OUR CODE GOES HERE"
      ]
    },
    {
      "cell_type": "markdown",
      "metadata": {
        "id": "0-cyo-cG2MOs"
      },
      "source": [
        "### <font color=\"green\">Challenge 5</font>"
      ]
    },
    {
      "cell_type": "code",
      "execution_count": null,
      "metadata": {
        "id": "G8WSyCrz2N_6"
      },
      "outputs": [],
      "source": [
        "# Challenge 5\n",
        "# ---\n",
        "# Create a regression model to predict sales prices. \n",
        "# Apply regularization techniques.\n",
        "# ---\n",
        "# Dataset source = http://bit.ly/HousePricesDataset\n",
        "# ---\n",
        "# \n",
        "OUR CODE GOES HERE"
      ]
    }
  ],
  "metadata": {
    "colab": {
      "collapsed_sections": [
        "qa33QGdE1vQe",
        "hTqFcUIQuO_3",
        "kke3w5L512WF",
        "3-BreaBg2FdS",
        "AMM6ePT52H0Z",
        "CfPAQs0M2Jwi",
        "0-cyo-cG2MOs"
      ],
      "name": "Python Programming: Ridge Regression",
      "provenance": [],
      "toc_visible": true
    },
    "interpreter": {
      "hash": "8e24f623c9d976e65e43b538ecbbc4d478524c94015e92b14b460358aba5245a"
    },
    "kernelspec": {
      "display_name": "Python 3.8.5 64-bit ('base': conda)",
      "name": "python3"
    },
    "language_info": {
      "codemirror_mode": {
        "name": "ipython",
        "version": 3
      },
      "file_extension": ".py",
      "mimetype": "text/x-python",
      "name": "python",
      "nbconvert_exporter": "python",
      "pygments_lexer": "ipython3",
      "version": "3.8.5"
    }
  },
  "nbformat": 4,
  "nbformat_minor": 0
}
